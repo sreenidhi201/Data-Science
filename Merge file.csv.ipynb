{
 "cells": [
  {
   "cell_type": "code",
   "execution_count": 1,
   "id": "5a53bf4d",
   "metadata": {},
   "outputs": [
    {
     "name": "stdout",
     "output_type": "stream",
     "text": [
      "   customer in   Gender  Age  AnualIncome(k$)  SpendingScore\n",
      "0             1    male   20               10             30\n",
      "1             2  female   21               20             50\n",
      "2             3  female   19               30             58\n",
      "3             4    male   18               10             84\n",
      "4             5    male   25               25             90\n",
      "5             6  female   26               60             65\n",
      "6             7    male   32               70             32\n",
      "7             8    male   41               15             46\n",
      "8             9  female   20               21             12\n",
      "9            10    male   19               22             56\n",
      "\n",
      "--------------------------------------------------\n",
      "   customer in   Gender  Age  SpendingScore  AnualIncome(k$)\n",
      "0            11    male   20             30               10\n",
      "1            12  female   21             50               20\n",
      "2            13  female   19             58               30\n",
      "3            14    male   18             84               10\n",
      "4            15    male   25             90               25\n",
      "5            16  female   26             65               60\n",
      "6            17    male   32             32               70\n",
      "7            18    male   41             46               15\n",
      "8            19  female   20             12               21\n",
      "9            20    male   19             56               22\n",
      "\n",
      "--------------------------------------------------\n",
      "None\n",
      "    Unnamed: 0  customer in   Gender  Age  AnualIncome(k$)  SpendingScore\n",
      "0            0             1    male   20               10             30\n",
      "1            1             2  female   21               20             50\n",
      "2            2             3  female   19               30             58\n",
      "3            3             4    male   18               10             84\n",
      "4            4             5    male   25               25             90\n",
      "5            5             6  female   26               60             65\n",
      "6            6             7    male   32               70             32\n",
      "7            7             8    male   41               15             46\n",
      "8            8             9  female   20               21             12\n",
      "9            9            10    male   19               22             56\n",
      "10           0            11    male   20               10             30\n",
      "11           1            12  female   21               20             50\n",
      "12           2            13  female   19               30             58\n",
      "13           3            14    male   18               10             84\n",
      "14           4            15    male   25               25             90\n",
      "15           5            16  female   26               60             65\n",
      "16           6            17    male   32               70             32\n",
      "17           7            18    male   41               15             46\n",
      "18           8            19  female   20               21             12\n",
      "19           9            20    male   19               22             56\n"
     ]
    }
   ],
   "source": [
    "import pandas as pd\n",
    "\n",
    "data_dict1={'customer in ':[1,2,3,4,5,6,7,8,9,10],\n",
    "           'Gender':['male','female','female','male','male','female','male','male','female','male'],\n",
    "           'Age':[20,21,19,18,25,26,32,41,20,19],\n",
    "            'AnualIncome(k$)':[10,20,30,10,25,60,70,15,21,22],\n",
    "           'SpendingScore':[30,50,58,84,90,65,32,46,12,56]}\n",
    "data1 = pd.DataFrame(data_dict1)\n",
    "data1.to_csv(\"customer1.csv\")\n",
    "print(data1)\n",
    "print(\"\\n--------------------------------------------------\")\n",
    "data_dict2={'customer in ':[11,12,13,14,15,16,17,18,19,20],\n",
    "           'Gender':['male','female','female','male','male','female','male','male','female','male'],\n",
    "           'Age':[20,21,19,18,25,26,32,41,20,19],\n",
    "           'SpendingScore':[23,33,19,18,25,26,32,41,20,19],\n",
    "           'AnualIncome(k$)':[10,20,30,10,25,60,70,15,21,22],\n",
    "           'SpendingScore':[30,50,58,84,90,65,32,46,12,56]}\n",
    "data2 = pd.DataFrame(data_dict2)\n",
    "data2.to_csv(\"customer2.csv\")\n",
    "print(data2)\n",
    "print(\"\\n--------------------------------------------------\")\n",
    "df=pd.concat(map(pd.read_csv,['customer1.csv','customer2.csv']),ignore_index=True)\n",
    "print(df.to_csv(\"mergefile.csv\",index=False))\n",
    "print(df)"
   ]
  },
  {
   "cell_type": "code",
   "execution_count": null,
   "id": "e832ed1b",
   "metadata": {},
   "outputs": [],
   "source": []
  }
 ],
 "metadata": {
  "kernelspec": {
   "display_name": "Python 3",
   "language": "python",
   "name": "python3"
  },
  "language_info": {
   "codemirror_mode": {
    "name": "ipython",
    "version": 3
   },
   "file_extension": ".py",
   "mimetype": "text/x-python",
   "name": "python",
   "nbconvert_exporter": "python",
   "pygments_lexer": "ipython3",
   "version": "3.8.8"
  }
 },
 "nbformat": 4,
 "nbformat_minor": 5
}
