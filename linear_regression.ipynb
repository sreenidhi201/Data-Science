{
 "cells": [
  {
   "cell_type": "code",
   "execution_count": 1,
   "id": "fd1eebe3",
   "metadata": {},
   "outputs": [
    {
     "name": "stdout",
     "output_type": "stream",
     "text": [
      "['age', 'sex', 'bmi', 'bp', 's1', 's2', 's3', 's4', 's5', 's6']\n",
      "Coefficients: \n",
      " [938.23786125]\n",
      "Intercept: \n",
      " 152.91886182616167\n",
      "Mean Squared Error: 2548.07\n",
      "Coefficient of determination: 0.47\n"
     ]
    },
    {
     "data": {
      "image/png": "[encoded data removed]",
      "text/plain": [
       "<Figure size 432x288 with 1 Axes>"
      ]
     },
     "metadata": {},
     "output_type": "display_data"
    }
   ],
   "source": [
    "import matplotlib.pyplot as plt\n",
    "import numpy as np\n",
    "from sklearn import datasets, linear_model\n",
    "from sklearn.metrics import mean_squared_error, r2_score\n",
    "\n",
    "# Load the diabetes dataset\n",
    "diabetes = datasets.load_diabetes()\n",
    "print(diabetes.feature_names)\n",
    "diabetes_X =  diabetes.data[:,np.newaxis,2]\n",
    "# Split the data into training/testing sets\n",
    "diabetes_X_train = diabetes_X[:-20]\n",
    "diabetes_X_test = diabetes_X[-20:]\n",
    "\n",
    "# Split the targets into training/testing sets\n",
    "diabetes_y_train = diabetes.target[:-20]\n",
    "diabetes_y_test = diabetes.target[-20:]\n",
    "\n",
    "# Create linear regression object\n",
    "reg = linear_model.LinearRegression()\n",
    "\n",
    "# Train the model using the training sets\n",
    "reg.fit(diabetes_X_train, diabetes_y_train)\n",
    "\n",
    "# Make predictions using the testing set\n",
    "diabetes_y_pred = reg.predict(diabetes_X_test)\n",
    "\n",
    "# Print the coefficients and intercept\n",
    "print(\"Coefficients: \\n\", reg.coef_)\n",
    "print(\"Intercept: \\n\", reg.intercept_)\n",
    "\n",
    "# Print mean squared error\n",
    "print(\"Mean Squared Error: %.2f\" % mean_squared_error(diabetes_y_test, diabetes_y_pred))\n",
    "\n",
    "# Print coefficient of determination (r2 score)\n",
    "print(\"Coefficient of determination: %.2f\" % r2_score(diabetes_y_test, diabetes_y_pred))\n",
    "\n",
    "# Plot outputs\n",
    "plt.scatter(diabetes_X_test, diabetes_y_test, color=\"red\")\n",
    "plt.plot(diabetes_X_test, diabetes_y_pred, color=\"black\", linewidth=3)\n",
    "\n",
    "plt.xlabel(\"Age\")\n",
    "plt.ylabel(\"Diabetes Progression\")\n",
    "plt.xticks(())\n",
    "plt.yticks(())\n",
    "plt.show()"
   ]
  },
  {
   "cell_type": "code",
   "execution_count": null,
   "id": "13b915cf",
   "metadata": {},
   "outputs": [],
   "source": []
  }
 ],
 "metadata": {
  "kernelspec": {
   "display_name": "Python 3 (ipykernel)",
   "language": "python",
   "name": "python3"
  },
  "language_info": {
   "codemirror_mode": {
    "name": "ipython",
    "version": 3
   },
   "file_extension": ".py",
   "mimetype": "text/x-python",
   "name": "python",
   "nbconvert_exporter": "python",
   "pygments_lexer": "ipython3",
   "version": "3.9.12"
  }
 },
 "nbformat": 4,
 "nbformat_minor": 5
}
